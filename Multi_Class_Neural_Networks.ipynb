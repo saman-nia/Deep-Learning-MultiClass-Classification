{
  "nbformat": 4,
  "nbformat_minor": 0,
  "metadata": {
    "colab": {
      "name": "Multi-Class Neural Networks.ipynb",
      "version": "0.3.2",
      "provenance": [],
      "collapsed_sections": [],
      "include_colab_link": true
    },
    "kernelspec": {
      "name": "python3",
      "display_name": "Python 3"
    },
    "accelerator": "GPU"
  },
  "cells": [
    {
      "cell_type": "markdown",
      "metadata": {
        "id": "view-in-github",
        "colab_type": "text"
      },
      "source": [
        "<a href=\"https://colab.research.google.com/github/saman-nia/Multi-Class-Neural-Networks-One-vs-All/blob/master/Multi_Class_Neural_Networks.ipynb\" target=\"_parent\"><img src=\"https://colab.research.google.com/assets/colab-badge.svg\" alt=\"Open In Colab\"/></a>"
      ]
    },
    {
      "metadata": {
        "id": "fnNyDnpnv3uK",
        "colab_type": "code",
        "colab": {}
      },
      "cell_type": "code",
      "source": [
        "!pip install tf-nightly-gpu-2.0-preview"
      ],
      "execution_count": 0,
      "outputs": []
    },
    {
      "metadata": {
        "id": "lBdNSN5rv9X2",
        "colab_type": "code",
        "colab": {
          "base_uri": "https://localhost:8080/",
          "height": 34
        },
        "outputId": "536fc05b-1daa-4b3d-bc7c-f9e058113f36"
      },
      "cell_type": "code",
      "source": [
        "import tensorflow as tf\n",
        "print(tf.__version__)"
      ],
      "execution_count": 2,
      "outputs": [
        {
          "output_type": "stream",
          "text": [
            "2.0.0-dev20190406\n"
          ],
          "name": "stdout"
        }
      ]
    },
    {
      "metadata": {
        "colab_type": "code",
        "id": "_Xg79b2X6FY4",
        "colab": {}
      },
      "cell_type": "code",
      "source": [
        "import warnings\n",
        "import random\n",
        "import numpy as np\n",
        "import pandas as pd\n",
        "import matplotlib.pyplot as plt\n",
        "#--------------------------------------------------------------\n",
        "from sklearn.feature_extraction.text import TfidfVectorizer\n",
        "from sklearn.preprocessing import MultiLabelBinarizer\n",
        "from sklearn.model_selection import train_test_split\n",
        "#--------------------------------------------------------------\n",
        "from IPython.display import clear_output"
      ],
      "execution_count": 0,
      "outputs": []
    },
    {
      "metadata": {
        "id": "7HmeEC5kq4eD",
        "colab_type": "code",
        "colab": {}
      },
      "cell_type": "code",
      "source": [
        "url_data = 'https://raw.githubusercontent.com/saman-nia/Multi-label-Text-Classification-Features-with-Tensorflow/master/data/data_set.csv'\n",
        "data = pd.read_csv(url_data).dropna()\n",
        "# Dataset is now stored in a Pandas Dataframe"
      ],
      "execution_count": 0,
      "outputs": []
    },
    {
      "metadata": {
        "id": "DDftFewn9n_x",
        "colab_type": "code",
        "outputId": "ddf17626-87bc-4d58-b47f-0c70c2b7464a",
        "colab": {
          "base_uri": "https://localhost:8080/",
          "height": 289
        }
      },
      "cell_type": "code",
      "source": [
        "data.head()"
      ],
      "execution_count": 5,
      "outputs": [
        {
          "output_type": "execute_result",
          "data": {
            "text/html": [
              "<div>\n",
              "<style scoped>\n",
              "    .dataframe tbody tr th:only-of-type {\n",
              "        vertical-align: middle;\n",
              "    }\n",
              "\n",
              "    .dataframe tbody tr th {\n",
              "        vertical-align: top;\n",
              "    }\n",
              "\n",
              "    .dataframe thead th {\n",
              "        text-align: right;\n",
              "    }\n",
              "</style>\n",
              "<table border=\"1\" class=\"dataframe\">\n",
              "  <thead>\n",
              "    <tr style=\"text-align: right;\">\n",
              "      <th></th>\n",
              "      <th>id</th>\n",
              "      <th>name</th>\n",
              "      <th>description</th>\n",
              "      <th>price</th>\n",
              "      <th>shop</th>\n",
              "      <th>brand</th>\n",
              "      <th>labels</th>\n",
              "    </tr>\n",
              "  </thead>\n",
              "  <tbody>\n",
              "    <tr>\n",
              "      <th>0</th>\n",
              "      <td>88136</td>\n",
              "      <td>Herren Schiesser Shirt 2er Pack ohne Arm unifa...</td>\n",
              "      <td>Shirt 2er Pack - American T-Shirts von Schiess...</td>\n",
              "      <td>22.000000</td>\n",
              "      <td>Herrenausstatter</td>\n",
              "      <td>Schiesser</td>\n",
              "      <td>Bekleidung,Shirts,T-Shirts,Wäsche,Unterhemden,...</td>\n",
              "    </tr>\n",
              "    <tr>\n",
              "      <th>1</th>\n",
              "      <td>88247</td>\n",
              "      <td>Herren bruno banani Hipshorts Swim rot</td>\n",
              "      <td>Trendige Bademode bei Herrenausstatter: Swim B...</td>\n",
              "      <td>23.950001</td>\n",
              "      <td>Herrenausstatter</td>\n",
              "      <td>Bruno Banani</td>\n",
              "      <td>Bekleidung,Bademode,Badehosen,Bade Pants,Hosen...</td>\n",
              "    </tr>\n",
              "    <tr>\n",
              "      <th>2</th>\n",
              "      <td>323683</td>\n",
              "      <td>Herren bruno banani Hipshorts Magical schwarz ...</td>\n",
              "      <td>Magical - die Serie aus Microfaser mit Elastha...</td>\n",
              "      <td>16.950001</td>\n",
              "      <td>Herrenausstatter</td>\n",
              "      <td>Bruno Banani</td>\n",
              "      <td>Bekleidung,Hosen,Kurze Hosen,Shorts,Wäsche,Unt...</td>\n",
              "    </tr>\n",
              "    <tr>\n",
              "      <th>3</th>\n",
              "      <td>390726</td>\n",
              "      <td>MIA PlateauSandalette schwarz</td>\n",
              "      <td>Vagabond MIA PlateauSandalette schwarz: WOW - ...</td>\n",
              "      <td>74.950000</td>\n",
              "      <td>Zalando</td>\n",
              "      <td>Vagabond</td>\n",
              "      <td>Schuhe,Plateau Schuhe,Plateau Sandaletten,Sand...</td>\n",
              "    </tr>\n",
              "    <tr>\n",
              "      <th>4</th>\n",
              "      <td>986780</td>\n",
              "      <td>Herren bruno banani Happy You V-Shirt schw. ge...</td>\n",
              "      <td>Happy U - V-Shirt aus elastischer Microfaser v...</td>\n",
              "      <td>29.950001</td>\n",
              "      <td>Herrenausstatter</td>\n",
              "      <td>Bruno Banani</td>\n",
              "      <td>Bekleidung,Shirts,T-Shirts,V-Shirts,Wäsche,Unt...</td>\n",
              "    </tr>\n",
              "  </tbody>\n",
              "</table>\n",
              "</div>"
            ],
            "text/plain": [
              "       id                                               name  \\\n",
              "0   88136  Herren Schiesser Shirt 2er Pack ohne Arm unifa...   \n",
              "1   88247             Herren bruno banani Hipshorts Swim rot   \n",
              "2  323683  Herren bruno banani Hipshorts Magical schwarz ...   \n",
              "3  390726                      MIA PlateauSandalette schwarz   \n",
              "4  986780  Herren bruno banani Happy You V-Shirt schw. ge...   \n",
              "\n",
              "                                         description      price  \\\n",
              "0  Shirt 2er Pack - American T-Shirts von Schiess...  22.000000   \n",
              "1  Trendige Bademode bei Herrenausstatter: Swim B...  23.950001   \n",
              "2  Magical - die Serie aus Microfaser mit Elastha...  16.950001   \n",
              "3  Vagabond MIA PlateauSandalette schwarz: WOW - ...  74.950000   \n",
              "4  Happy U - V-Shirt aus elastischer Microfaser v...  29.950001   \n",
              "\n",
              "               shop         brand  \\\n",
              "0  Herrenausstatter     Schiesser   \n",
              "1  Herrenausstatter  Bruno Banani   \n",
              "2  Herrenausstatter  Bruno Banani   \n",
              "3           Zalando      Vagabond   \n",
              "4  Herrenausstatter  Bruno Banani   \n",
              "\n",
              "                                              labels  \n",
              "0  Bekleidung,Shirts,T-Shirts,Wäsche,Unterhemden,...  \n",
              "1  Bekleidung,Bademode,Badehosen,Bade Pants,Hosen...  \n",
              "2  Bekleidung,Hosen,Kurze Hosen,Shorts,Wäsche,Unt...  \n",
              "3  Schuhe,Plateau Schuhe,Plateau Sandaletten,Sand...  \n",
              "4  Bekleidung,Shirts,T-Shirts,V-Shirts,Wäsche,Unt...  "
            ]
          },
          "metadata": {
            "tags": []
          },
          "execution_count": 5
        }
      ]
    },
    {
      "metadata": {
        "id": "JGpv5QSOlfDh",
        "colab_type": "code",
        "colab": {
          "base_uri": "https://localhost:8080/",
          "height": 34
        },
        "outputId": "2251689b-fcba-41e8-9f7f-2f501a50060c"
      },
      "cell_type": "code",
      "source": [
        "data.shape"
      ],
      "execution_count": 6,
      "outputs": [
        {
          "output_type": "execute_result",
          "data": {
            "text/plain": [
              "(25879, 7)"
            ]
          },
          "metadata": {
            "tags": []
          },
          "execution_count": 6
        }
      ]
    },
    {
      "metadata": {
        "id": "s6Fk4Mpeq4RE",
        "colab_type": "code",
        "colab": {}
      },
      "cell_type": "code",
      "source": [
        "data['name'] = data.name.astype('str')\n",
        "data['description'] = data.description.astype('str')\n",
        "data['brand'] = data.brand.astype('str')"
      ],
      "execution_count": 0,
      "outputs": []
    },
    {
      "metadata": {
        "colab_type": "code",
        "id": "lHwJ6-ADUMWK",
        "colab": {}
      },
      "cell_type": "code",
      "source": [
        "# Get raw text from products\n",
        "txt = data[['name', 'description', 'brand']].apply(lambda x: ' '.join(x),\n",
        "                                                   axis=1)"
      ],
      "execution_count": 0,
      "outputs": []
    },
    {
      "metadata": {
        "id": "uKKGEDviCNyk",
        "colab_type": "code",
        "colab": {}
      },
      "cell_type": "code",
      "source": [
        "# Get all level tags for each product\n",
        "y = data['labels'].apply(lambda x: set(x.split(','))) # split the tags in each row"
      ],
      "execution_count": 0,
      "outputs": []
    },
    {
      "metadata": {
        "colab_type": "code",
        "id": "2xgFl2S9UMSB",
        "colab": {}
      },
      "cell_type": "code",
      "source": [
        "# Split the data between training and test set\n",
        "txt_train, txt_test, y_train, y_test = train_test_split(txt, y, test_size=0.3, \n",
        "                                                        random_state=112358)"
      ],
      "execution_count": 0,
      "outputs": []
    },
    {
      "metadata": {
        "colab_type": "code",
        "id": "fnFLVjkZUMKc",
        "outputId": "4ff9825a-29cb-4086-8ebc-8aebfa965a08",
        "colab": {
          "base_uri": "https://localhost:8080/",
          "height": 51
        }
      },
      "cell_type": "code",
      "source": [
        "# Create a word vectorizer, and train it on the text of the training set\n",
        "# Get the vectorized training set text as output\n",
        "vectorizer = TfidfVectorizer()\n",
        "X_train = vectorizer.fit_transform(txt_train)\n",
        "print(\"\\nNumber of text features: %s\" % X_train.shape[1])"
      ],
      "execution_count": 11,
      "outputs": [
        {
          "output_type": "stream",
          "text": [
            "\n",
            "Number of text features: 41470\n"
          ],
          "name": "stdout"
        }
      ]
    },
    {
      "metadata": {
        "colab_type": "code",
        "id": "q95pBiRpUrZI",
        "colab": {}
      },
      "cell_type": "code",
      "source": [
        "# Vectorize the test set text\n",
        "X_test = vectorizer.transform(txt_test)"
      ],
      "execution_count": 0,
      "outputs": []
    },
    {
      "metadata": {
        "colab_type": "code",
        "id": "bgN3ysGlUycI",
        "colab": {}
      },
      "cell_type": "code",
      "source": [
        "# One-hot encoder for the product tags\n",
        "label_binarizer = MultiLabelBinarizer().fit(y)"
      ],
      "execution_count": 0,
      "outputs": []
    },
    {
      "metadata": {
        "colab_type": "code",
        "id": "OoNnWwLFUyje",
        "outputId": "bd731ca4-356b-4c75-811b-fd018a5f22a6",
        "colab": {
          "base_uri": "https://localhost:8080/",
          "height": 34
        }
      },
      "cell_type": "code",
      "source": [
        "# convert the training and test set tags\n",
        "y_train_bin = label_binarizer.transform(y_train)\n",
        "y_test_bin = label_binarizer.transform(y_test)\n",
        "print(\"Number of tags: %s\" % y_train_bin.shape[1])"
      ],
      "execution_count": 14,
      "outputs": [
        {
          "output_type": "stream",
          "text": [
            "Number of tags: 612\n"
          ],
          "name": "stdout"
        }
      ]
    },
    {
      "metadata": {
        "id": "N9W68h-oEQn1",
        "colab_type": "code",
        "colab": {}
      },
      "cell_type": "code",
      "source": [
        "output_layer = y_train_bin.shape[1]"
      ],
      "execution_count": 0,
      "outputs": []
    },
    {
      "metadata": {
        "id": "mGgjAJvrMFM5",
        "colab_type": "code",
        "colab": {}
      },
      "cell_type": "code",
      "source": [
        "# find the geometric progression value to set the hidden layer.\n",
        "x = [2**i for i in range(2, 20)]\n",
        "for j in range(len(x)):\n",
        "  if x[j] > output_layer:\n",
        "    Hidden_layer = (x[j])\n",
        "    break"
      ],
      "execution_count": 0,
      "outputs": []
    },
    {
      "metadata": {
        "id": "PfnZIFEtDwL8",
        "colab_type": "code",
        "colab": {}
      },
      "cell_type": "code",
      "source": [
        "input_layer = X_train.shape[1]\n",
        "hidden_layer = Hidden_layer"
      ],
      "execution_count": 0,
      "outputs": []
    },
    {
      "metadata": {
        "id": "Zte4zrgDfl2C",
        "colab_type": "code",
        "colab": {
          "base_uri": "https://localhost:8080/",
          "height": 34
        },
        "outputId": "330b3ee9-749a-4b5c-9ce5-1e421d95575b"
      },
      "cell_type": "code",
      "source": [
        "X_train.shape"
      ],
      "execution_count": 18,
      "outputs": [
        {
          "output_type": "execute_result",
          "data": {
            "text/plain": [
              "(18115, 41470)"
            ]
          },
          "metadata": {
            "tags": []
          },
          "execution_count": 18
        }
      ]
    },
    {
      "metadata": {
        "id": "5IpxE9eQNDcg",
        "colab_type": "code",
        "outputId": "5ecf72d6-792a-4a87-fb8f-3d35a9882fa6",
        "colab": {
          "base_uri": "https://localhost:8080/",
          "height": 68
        }
      },
      "cell_type": "code",
      "source": [
        "print('Input Layer Nodes are: ------>', input_layer)\n",
        "print('Hidden Layer Nodes are: ----->', hidden_layer)\n",
        "print('Output Layer Nodes are: ----->', output_layer)"
      ],
      "execution_count": 19,
      "outputs": [
        {
          "output_type": "stream",
          "text": [
            "Input Layer Nodes are: ------> 41470\n",
            "Hidden Layer Nodes are: -----> 1024\n",
            "Output Layer Nodes are: -----> 612\n"
          ],
          "name": "stdout"
        }
      ]
    },
    {
      "metadata": {
        "id": "H-Nrbis3pLa3",
        "colab_type": "code",
        "colab": {}
      },
      "cell_type": "code",
      "source": [
        "n_epoch = 10\n",
        "batch_size = 128\n",
        "csv_logger = tf.keras.callbacks.CSVLogger('training.log')"
      ],
      "execution_count": 0,
      "outputs": []
    },
    {
      "metadata": {
        "id": "9O2wASsQa-vr",
        "colab_type": "code",
        "colab": {}
      },
      "cell_type": "code",
      "source": [
        "modelTF = tf.keras.models.Sequential()\n",
        "modelTF.add(tf.keras.layers.Dense(hidden_layer, input_dim = input_layer, activation='relu')) # hidden layer\n",
        "modelTF.add(tf.keras.layers.Dense(output_layer, activation='sigmoid')) # output layer\n",
        "# I use (sigmoid + binary_crossentropy) to encounter text topic multi-label\n",
        "modelTF.compile(optimizer='adam', loss='binary_crossentropy', metrics=['accuracy'])"
      ],
      "execution_count": 0,
      "outputs": []
    },
    {
      "metadata": {
        "id": "WazbpfDyu9LF",
        "colab_type": "code",
        "colab": {
          "base_uri": "https://localhost:8080/",
          "height": 391
        },
        "outputId": "dc0c814b-dde7-4777-89e0-d891c8dd7e22"
      },
      "cell_type": "code",
      "source": [
        "modelTF.fit(X_train.toarray(), y_train_bin, batch_size = batch_size, callbacks=[csv_logger],\n",
        "            epochs = n_epoch, validation_data=(X_test.toarray(), y_test_bin))"
      ],
      "execution_count": 22,
      "outputs": [
        {
          "output_type": "stream",
          "text": [
            "Train on 18115 samples, validate on 7764 samples\n",
            "Epoch 1/10\n",
            "18115/18115 [==============================] - 12s 677us/sample - loss: 0.1493 - accuracy: 0.9829 - val_loss: 0.0424 - val_accuracy: 0.9900\n",
            "Epoch 2/10\n",
            "18115/18115 [==============================] - 12s 644us/sample - loss: 0.0369 - accuracy: 0.9908 - val_loss: 0.0325 - val_accuracy: 0.9915\n",
            "Epoch 3/10\n",
            "18115/18115 [==============================] - 12s 645us/sample - loss: 0.0286 - accuracy: 0.9921 - val_loss: 0.0261 - val_accuracy: 0.9924\n",
            "Epoch 4/10\n",
            "18115/18115 [==============================] - 12s 654us/sample - loss: 0.0227 - accuracy: 0.9931 - val_loss: 0.0218 - val_accuracy: 0.9932\n",
            "Epoch 5/10\n",
            "18115/18115 [==============================] - 12s 638us/sample - loss: 0.0186 - accuracy: 0.9941 - val_loss: 0.0191 - val_accuracy: 0.9938\n",
            "Epoch 6/10\n",
            "18115/18115 [==============================] - 11s 632us/sample - loss: 0.0156 - accuracy: 0.9948 - val_loss: 0.0175 - val_accuracy: 0.9942\n",
            "Epoch 7/10\n",
            "18115/18115 [==============================] - 11s 633us/sample - loss: 0.0135 - accuracy: 0.9955 - val_loss: 0.0164 - val_accuracy: 0.9944\n",
            "Epoch 8/10\n",
            "18115/18115 [==============================] - 12s 648us/sample - loss: 0.0118 - accuracy: 0.9961 - val_loss: 0.0156 - val_accuracy: 0.9947\n",
            "Epoch 9/10\n",
            "18115/18115 [==============================] - 11s 632us/sample - loss: 0.0103 - accuracy: 0.9966 - val_loss: 0.0151 - val_accuracy: 0.9948\n",
            "Epoch 10/10\n",
            "18115/18115 [==============================] - 11s 633us/sample - loss: 0.0091 - accuracy: 0.9970 - val_loss: 0.0148 - val_accuracy: 0.9950\n"
          ],
          "name": "stdout"
        },
        {
          "output_type": "execute_result",
          "data": {
            "text/plain": [
              "<tensorflow.python.keras.callbacks.History at 0x7f5637679fd0>"
            ]
          },
          "metadata": {
            "tags": []
          },
          "execution_count": 22
        }
      ]
    },
    {
      "metadata": {
        "id": "yqyusPvdQ0lr",
        "colab_type": "code",
        "colab": {}
      },
      "cell_type": "code",
      "source": [
        "log_rec = pd.read_csv('training.log')\n",
        "log_rec['accuracy'] = round(log_rec.accuracy * 100, 2)\n",
        "log_rec['loss'] = round(log_rec.loss, 3)\n",
        "log_rec['val_accuracy'] = round(log_rec.val_accuracy * 100, 2)\n",
        "log_rec['val_loss'] = round(log_rec.val_loss, 3)"
      ],
      "execution_count": 0,
      "outputs": []
    },
    {
      "metadata": {
        "id": "QVe9A63Ob1OF",
        "colab_type": "code",
        "colab": {
          "base_uri": "https://localhost:8080/",
          "height": 403
        },
        "outputId": "6a0b1765-8ce1-405f-a153-f8fc661c9154"
      },
      "cell_type": "code",
      "source": [
        "plt.figure(figsize=(19,6))\n",
        "plt.subplot(1,2,1)\n",
        "plt.plot(log_rec['epoch'], log_rec['loss'], 'g', label='Training Loss', marker='h')\n",
        "plt.plot(log_rec['epoch'], log_rec['val_loss'], 'bo', label='Validation Loss')\n",
        "plt.xlabel('Number of Epochs')\n",
        "plt.ylabel('Cost')\n",
        "plt.xticks(log_rec['epoch'])\n",
        "plt.title('Cost Function During Optimization')\n",
        "plt.legend()\n",
        "plt.subplot(1,2,2)\n",
        "plt.plot(log_rec['epoch'], log_rec['accuracy'], 'r', label='Training Accuracy', marker='h')\n",
        "plt.plot(log_rec['epoch'], log_rec['val_accuracy'], 'bo', label='Validation Accuracy')\n",
        "plt.xlabel('Number of Epochs')\n",
        "plt.ylabel('Accuracy')\n",
        "plt.xticks(log_rec['epoch'])\n",
        "#plt.yticks(log_rec['accuracy'])\n",
        "plt.title('The Process of Model Accuracy During Optimization')\n",
        "plt.legend()\n",
        "plt.show()"
      ],
      "execution_count": 24,
      "outputs": [
        {
          "output_type": "display_data",
          "data": {
            "image/png": "[encoded data removed]",
            "text/plain": [
              "<Figure size 1368x432 with 2 Axes>"
            ]
          },
          "metadata": {
            "tags": []
          }
        }
      ]
    }
  ]
}