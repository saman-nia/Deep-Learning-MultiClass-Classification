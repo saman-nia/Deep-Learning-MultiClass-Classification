{
  "nbformat": 4,
  "nbformat_minor": 0,
  "metadata": {
    "colab": {
      "name": "Multi-Class(One vs. all).ipynb",
      "version": "0.3.2",
      "provenance": [],
      "collapsed_sections": [],
      "include_colab_link": true
    },
    "kernelspec": {
      "name": "python3",
      "display_name": "Python 3"
    },
    "accelerator": "GPU"
  },
  "cells": [
    {
      "cell_type": "markdown",
      "metadata": {
        "id": "view-in-github",
        "colab_type": "text"
      },
      "source": [
        "<a href=\"https://colab.research.google.com/github/saman-nia/MultiClass-Classification/blob/master/Multi_Class(One_vs_all).ipynb\" target=\"_parent\"><img src=\"https://colab.research.google.com/assets/colab-badge.svg\" alt=\"Open In Colab\"/></a>"
      ]
    },
    {
      "metadata": {
        "id": "fnNyDnpnv3uK",
        "colab_type": "code",
        "colab": {}
      },
      "cell_type": "code",
      "source": [
        "# Install TF 2.0 Alpha\n",
        "!pip install tf-nightly-gpu-2.0-preview"
      ],
      "execution_count": 0,
      "outputs": []
    },
    {
      "metadata": {
        "id": "lBdNSN5rv9X2",
        "colab_type": "code",
        "outputId": "abdf7124-2e6b-4398-f46c-102c66daed41",
        "colab": {
          "base_uri": "https://localhost:8080/",
          "height": 34
        }
      },
      "cell_type": "code",
      "source": [
        "import tensorflow as tf\n",
        "print('Check the Version of TF: ', tf.__version__)"
      ],
      "execution_count": 2,
      "outputs": [
        {
          "output_type": "stream",
          "text": [
            "2.0.0-dev20190420\n"
          ],
          "name": "stdout"
        }
      ]
    },
    {
      "metadata": {
        "colab_type": "code",
        "id": "_Xg79b2X6FY4",
        "colab": {}
      },
      "cell_type": "code",
      "source": [
        "import warnings\n",
        "import random\n",
        "import numpy as np\n",
        "import pandas as pd\n",
        "import matplotlib.pyplot as plt\n",
        "#--------------------------------------------------------------\n",
        "from sklearn.feature_extraction.text import TfidfVectorizer\n",
        "from sklearn.feature_extraction.text import CountVectorizer\n",
        "from sklearn.preprocessing import MultiLabelBinarizer\n",
        "from sklearn.model_selection import train_test_split\n",
        "from sklearn.multiclass import OneVsRestClassifier\n",
        "from sklearn.linear_model import LogisticRegression\n",
        "from sklearn import metrics\n",
        "from sklearn.preprocessing import OneHotEncoder\n",
        "from sklearn.preprocessing import LabelEncoder\n",
        "#--------------------------------------------------------------\n",
        "from IPython.display import clear_output"
      ],
      "execution_count": 0,
      "outputs": []
    },
    {
      "metadata": {
        "id": "7HmeEC5kq4eD",
        "colab_type": "code",
        "colab": {}
      },
      "cell_type": "code",
      "source": [
        "# Fetch Dataset from Github:\n",
        "url_data = 'https://raw.githubusercontent.com/saman-nia/Multi-label-Text-Classification-Features-with-Tensorflow/master/data/data_set.csv'\n",
        "data = pd.read_csv(url_data).dropna()\n",
        "# Dataset is now stored in a Pandas Dataframe"
      ],
      "execution_count": 0,
      "outputs": []
    },
    {
      "metadata": {
        "id": "DDftFewn9n_x",
        "colab_type": "code",
        "outputId": "e8f6d56e-b49e-481f-c3f8-e83e18890340",
        "colab": {
          "base_uri": "https://localhost:8080/",
          "height": 289
        }
      },
      "cell_type": "code",
      "source": [
        "data.head()"
      ],
      "execution_count": 5,
      "outputs": [
        {
          "output_type": "execute_result",
          "data": {
            "text/html": [
              "<div>\n",
              "<style scoped>\n",
              "    .dataframe tbody tr th:only-of-type {\n",
              "        vertical-align: middle;\n",
              "    }\n",
              "\n",
              "    .dataframe tbody tr th {\n",
              "        vertical-align: top;\n",
              "    }\n",
              "\n",
              "    .dataframe thead th {\n",
              "        text-align: right;\n",
              "    }\n",
              "</style>\n",
              "<table border=\"1\" class=\"dataframe\">\n",
              "  <thead>\n",
              "    <tr style=\"text-align: right;\">\n",
              "      <th></th>\n",
              "      <th>id</th>\n",
              "      <th>name</th>\n",
              "      <th>description</th>\n",
              "      <th>price</th>\n",
              "      <th>shop</th>\n",
              "      <th>brand</th>\n",
              "      <th>labels</th>\n",
              "    </tr>\n",
              "  </thead>\n",
              "  <tbody>\n",
              "    <tr>\n",
              "      <th>0</th>\n",
              "      <td>88136</td>\n",
              "      <td>Herren Schiesser Shirt 2er Pack ohne Arm unifa...</td>\n",
              "      <td>Shirt 2er Pack - American T-Shirts von Schiess...</td>\n",
              "      <td>22.000000</td>\n",
              "      <td>Herrenausstatter</td>\n",
              "      <td>Schiesser</td>\n",
              "      <td>Bekleidung,Shirts,T-Shirts,Wäsche,Unterhemden,...</td>\n",
              "    </tr>\n",
              "    <tr>\n",
              "      <th>1</th>\n",
              "      <td>88247</td>\n",
              "      <td>Herren bruno banani Hipshorts Swim rot</td>\n",
              "      <td>Trendige Bademode bei Herrenausstatter: Swim B...</td>\n",
              "      <td>23.950001</td>\n",
              "      <td>Herrenausstatter</td>\n",
              "      <td>Bruno Banani</td>\n",
              "      <td>Bekleidung,Bademode,Badehosen,Bade Pants,Hosen...</td>\n",
              "    </tr>\n",
              "    <tr>\n",
              "      <th>2</th>\n",
              "      <td>323683</td>\n",
              "      <td>Herren bruno banani Hipshorts Magical schwarz ...</td>\n",
              "      <td>Magical - die Serie aus Microfaser mit Elastha...</td>\n",
              "      <td>16.950001</td>\n",
              "      <td>Herrenausstatter</td>\n",
              "      <td>Bruno Banani</td>\n",
              "      <td>Bekleidung,Hosen,Kurze Hosen,Shorts,Wäsche,Unt...</td>\n",
              "    </tr>\n",
              "    <tr>\n",
              "      <th>3</th>\n",
              "      <td>390726</td>\n",
              "      <td>MIA PlateauSandalette schwarz</td>\n",
              "      <td>Vagabond MIA PlateauSandalette schwarz: WOW - ...</td>\n",
              "      <td>74.950000</td>\n",
              "      <td>Zalando</td>\n",
              "      <td>Vagabond</td>\n",
              "      <td>Schuhe,Plateau Schuhe,Plateau Sandaletten,Sand...</td>\n",
              "    </tr>\n",
              "    <tr>\n",
              "      <th>4</th>\n",
              "      <td>986780</td>\n",
              "      <td>Herren bruno banani Happy You V-Shirt schw. ge...</td>\n",
              "      <td>Happy U - V-Shirt aus elastischer Microfaser v...</td>\n",
              "      <td>29.950001</td>\n",
              "      <td>Herrenausstatter</td>\n",
              "      <td>Bruno Banani</td>\n",
              "      <td>Bekleidung,Shirts,T-Shirts,V-Shirts,Wäsche,Unt...</td>\n",
              "    </tr>\n",
              "  </tbody>\n",
              "</table>\n",
              "</div>"
            ],
            "text/plain": [
              "       id                                               name  \\\n",
              "0   88136  Herren Schiesser Shirt 2er Pack ohne Arm unifa...   \n",
              "1   88247             Herren bruno banani Hipshorts Swim rot   \n",
              "2  323683  Herren bruno banani Hipshorts Magical schwarz ...   \n",
              "3  390726                      MIA PlateauSandalette schwarz   \n",
              "4  986780  Herren bruno banani Happy You V-Shirt schw. ge...   \n",
              "\n",
              "                                         description      price  \\\n",
              "0  Shirt 2er Pack - American T-Shirts von Schiess...  22.000000   \n",
              "1  Trendige Bademode bei Herrenausstatter: Swim B...  23.950001   \n",
              "2  Magical - die Serie aus Microfaser mit Elastha...  16.950001   \n",
              "3  Vagabond MIA PlateauSandalette schwarz: WOW - ...  74.950000   \n",
              "4  Happy U - V-Shirt aus elastischer Microfaser v...  29.950001   \n",
              "\n",
              "               shop         brand  \\\n",
              "0  Herrenausstatter     Schiesser   \n",
              "1  Herrenausstatter  Bruno Banani   \n",
              "2  Herrenausstatter  Bruno Banani   \n",
              "3           Zalando      Vagabond   \n",
              "4  Herrenausstatter  Bruno Banani   \n",
              "\n",
              "                                              labels  \n",
              "0  Bekleidung,Shirts,T-Shirts,Wäsche,Unterhemden,...  \n",
              "1  Bekleidung,Bademode,Badehosen,Bade Pants,Hosen...  \n",
              "2  Bekleidung,Hosen,Kurze Hosen,Shorts,Wäsche,Unt...  \n",
              "3  Schuhe,Plateau Schuhe,Plateau Sandaletten,Sand...  \n",
              "4  Bekleidung,Shirts,T-Shirts,V-Shirts,Wäsche,Unt...  "
            ]
          },
          "metadata": {
            "tags": []
          },
          "execution_count": 5
        }
      ]
    },
    {
      "metadata": {
        "id": "JGpv5QSOlfDh",
        "colab_type": "code",
        "outputId": "d0a5413f-b37e-4984-de42-93b2fd931f59",
        "colab": {
          "base_uri": "https://localhost:8080/",
          "height": 34
        }
      },
      "cell_type": "code",
      "source": [
        "data.shape"
      ],
      "execution_count": 6,
      "outputs": [
        {
          "output_type": "execute_result",
          "data": {
            "text/plain": [
              "(25879, 7)"
            ]
          },
          "metadata": {
            "tags": []
          },
          "execution_count": 6
        }
      ]
    },
    {
      "metadata": {
        "id": "s6Fk4Mpeq4RE",
        "colab_type": "code",
        "colab": {}
      },
      "cell_type": "code",
      "source": [
        "# Convert category feature to string for extract text\n",
        "data['name'] = data.name.astype('str')\n",
        "data['description'] = data.description.astype('str')\n",
        "data['brand'] = data.brand.astype('str')"
      ],
      "execution_count": 0,
      "outputs": []
    },
    {
      "metadata": {
        "colab_type": "code",
        "id": "lHwJ6-ADUMWK",
        "colab": {}
      },
      "cell_type": "code",
      "source": [
        "# Get raw text from products\n",
        "txt = data[['name', 'description', 'brand']].apply(lambda x: ' '.join(x),\n",
        "                                                   axis=1)"
      ],
      "execution_count": 0,
      "outputs": []
    },
    {
      "metadata": {
        "id": "uKKGEDviCNyk",
        "colab_type": "code",
        "colab": {}
      },
      "cell_type": "code",
      "source": [
        "# Get all level tags for each product\n",
        "y = data['labels'].apply(lambda x: set(x.split(','))) # split the tags in each row"
      ],
      "execution_count": 0,
      "outputs": []
    },
    {
      "metadata": {
        "colab_type": "code",
        "id": "2xgFl2S9UMSB",
        "colab": {}
      },
      "cell_type": "code",
      "source": [
        "# Split the data between training and test set\n",
        "txt_train, txt_test, y_train, y_test = train_test_split(txt, y, test_size=0.3, \n",
        "                                                        random_state=112358)"
      ],
      "execution_count": 0,
      "outputs": []
    },
    {
      "metadata": {
        "colab_type": "code",
        "id": "fnFLVjkZUMKc",
        "outputId": "70830c76-4f20-4fb0-f417-4d00af9b9861",
        "colab": {
          "base_uri": "https://localhost:8080/",
          "height": 51
        }
      },
      "cell_type": "code",
      "source": [
        "# Create a word vectorizer, and train it on the text of the training set\n",
        "# Get the vectorized training set text as output\n",
        "vectorizer = CountVectorizer()\n",
        "X_train = vectorizer.fit_transform(txt_train)\n",
        "print(\"\\nNumber of text features: %s\" % X_train.shape[1])"
      ],
      "execution_count": 11,
      "outputs": [
        {
          "output_type": "stream",
          "text": [
            "\n",
            "Number of text features: 41470\n"
          ],
          "name": "stdout"
        }
      ]
    },
    {
      "metadata": {
        "id": "3tqRbztVfbXQ",
        "colab_type": "code",
        "colab": {}
      },
      "cell_type": "code",
      "source": [
        "# Vectorize the test set text\n",
        "X_test = vectorizer.transform(txt_test)"
      ],
      "execution_count": 0,
      "outputs": []
    },
    {
      "metadata": {
        "colab_type": "code",
        "id": "bgN3ysGlUycI",
        "colab": {}
      },
      "cell_type": "code",
      "source": [
        "# One-hot encoder for the product tags\n",
        "label_binarizer = MultiLabelBinarizer().fit(y)"
      ],
      "execution_count": 0,
      "outputs": []
    },
    {
      "metadata": {
        "colab_type": "code",
        "id": "OoNnWwLFUyje",
        "outputId": "189c4691-9857-48fa-a4c9-f8496e386a15",
        "colab": {
          "base_uri": "https://localhost:8080/",
          "height": 34
        }
      },
      "cell_type": "code",
      "source": [
        "# convert the training and test set tags\n",
        "y_train_bin = label_binarizer.transform(y_train)\n",
        "y_test_bin = label_binarizer.transform(y_test)\n",
        "print(\"Number of tags: %s\" % y_train_bin.shape[1])"
      ],
      "execution_count": 14,
      "outputs": [
        {
          "output_type": "stream",
          "text": [
            "Number of tags: 612\n"
          ],
          "name": "stdout"
        }
      ]
    },
    {
      "metadata": {
        "id": "aaeF-NCw5dPm",
        "colab_type": "text"
      },
      "cell_type": "markdown",
      "source": [
        "**Build Machine Learning Model by LogisticRegression**\n"
      ]
    },
    {
      "metadata": {
        "id": "WSIHpu3ZcWZV",
        "colab_type": "code",
        "outputId": "1ffec054-5e43-4efa-d7db-a5b1b0b14cb4",
        "colab": {
          "base_uri": "https://localhost:8080/",
          "height": 51
        }
      },
      "cell_type": "code",
      "source": [
        "# Create a one-versus-rest classifier for out multi-output problem\n",
        "print(\"Machine Learning model is in the training process... \")\n",
        "model = OneVsRestClassifier(LogisticRegression(), n_jobs=-1).fit(X_train.tocoo()\n",
        "                                                                 , y_train_bin)\n",
        "# Measure the accuracy of your model\n",
        "accuracyMLmodel = metrics.accuracy_score(y_test_bin, model.predict(X_test))\n",
        "clear_output()\n",
        "print(\"\\nThe accuracy of Machine Learning model is %.1f%%\" % (100 * accuracyMLmodel))"
      ],
      "execution_count": 15,
      "outputs": [
        {
          "output_type": "stream",
          "text": [
            "\n",
            "The accuracy of Machine Learning model is 19.5%\n"
          ],
          "name": "stdout"
        }
      ]
    },
    {
      "metadata": {
        "id": "mGgjAJvrMFM5",
        "colab_type": "code",
        "colab": {}
      },
      "cell_type": "code",
      "source": [
        "# Find the geometric progression value to set the hidden layer.\n",
        "output_layer = y_train_bin.shape[1]\n",
        "x = [2**i for i in range(2, 20)]\n",
        "for j in range(len(x)):\n",
        "  if x[j] > output_layer:\n",
        "    Hidden_layer = (x[j])\n",
        "    break"
      ],
      "execution_count": 0,
      "outputs": []
    },
    {
      "metadata": {
        "id": "PfnZIFEtDwL8",
        "colab_type": "code",
        "colab": {}
      },
      "cell_type": "code",
      "source": [
        "input_layer = X_train.shape[1]\n",
        "hidden_layer = Hidden_layer"
      ],
      "execution_count": 0,
      "outputs": []
    },
    {
      "metadata": {
        "id": "Zte4zrgDfl2C",
        "colab_type": "code",
        "colab": {
          "base_uri": "https://localhost:8080/",
          "height": 34
        },
        "outputId": "f3f30206-8d26-4986-9469-b2debdc909b6"
      },
      "cell_type": "code",
      "source": [
        "X_train.shape"
      ],
      "execution_count": 19,
      "outputs": [
        {
          "output_type": "execute_result",
          "data": {
            "text/plain": [
              "(18115, 41470)"
            ]
          },
          "metadata": {
            "tags": []
          },
          "execution_count": 19
        }
      ]
    },
    {
      "metadata": {
        "id": "5IpxE9eQNDcg",
        "colab_type": "code",
        "colab": {
          "base_uri": "https://localhost:8080/",
          "height": 68
        },
        "outputId": "14d3643c-3e75-4c31-ddbe-2bf6ee6314d8"
      },
      "cell_type": "code",
      "source": [
        "print('Input Layer Nodes are: ------>', input_layer)\n",
        "print('Hidden Layer Nodes are: ----->', hidden_layer)\n",
        "print('Output Layer Nodes are: ----->', output_layer)"
      ],
      "execution_count": 20,
      "outputs": [
        {
          "output_type": "stream",
          "text": [
            "Input Layer Nodes are: ------> 41470\n",
            "Hidden Layer Nodes are: -----> 1024\n",
            "Output Layer Nodes are: -----> 612\n"
          ],
          "name": "stdout"
        }
      ]
    },
    {
      "metadata": {
        "id": "H-Nrbis3pLa3",
        "colab_type": "code",
        "colab": {}
      },
      "cell_type": "code",
      "source": [
        "n_epoch = 5\n",
        "batch_size = 64\n",
        "csv_logger = tf.keras.callbacks.CSVLogger('training.log')"
      ],
      "execution_count": 0,
      "outputs": []
    },
    {
      "metadata": {
        "id": "tlIkiQS4599X",
        "colab_type": "text"
      },
      "cell_type": "markdown",
      "source": [
        "**Build Deep Learning Model by Sigmoid Function and Binary Crossentropy Lossing Function**\n"
      ]
    },
    {
      "metadata": {
        "id": "9O2wASsQa-vr",
        "colab_type": "code",
        "colab": {}
      },
      "cell_type": "code",
      "source": [
        "modelTF = tf.keras.models.Sequential()\n",
        "modelTF.add(tf.keras.layers.Dense(hidden_layer, input_dim = input_layer, activation='tanh')) # hidden layer\n",
        "modelTF.add(tf.keras.layers.Dense(output_layer, activation='sigmoid')) # output layer\n",
        "# I use (sigmoid + binary_crossentropy) to encounter text topic multi-label\n",
        "modelTF.compile(optimizer='adam', loss='binary_crossentropy', metrics=['accuracy'])"
      ],
      "execution_count": 0,
      "outputs": []
    },
    {
      "metadata": {
        "id": "WazbpfDyu9LF",
        "colab_type": "code",
        "colab": {
          "base_uri": "https://localhost:8080/",
          "height": 221
        },
        "outputId": "3255e587-1885-4d73-ff78-d8befa8e57d8"
      },
      "cell_type": "code",
      "source": [
        "modelTF.fit(X_train.toarray(), y_train_bin, batch_size = batch_size, callbacks=[csv_logger],\n",
        "            epochs = n_epoch, validation_data=(X_test.toarray(), y_test_bin))"
      ],
      "execution_count": 23,
      "outputs": [
        {
          "output_type": "stream",
          "text": [
            "Train on 18115 samples, validate on 7764 samples\n",
            "Epoch 1/5\n",
            "18115/18115 [==============================] - 10s 553us/sample - loss: 0.0596 - accuracy: 0.9875 - val_loss: 0.0240 - val_accuracy: 0.9933\n",
            "Epoch 2/5\n",
            "18115/18115 [==============================] - 9s 501us/sample - loss: 0.0170 - accuracy: 0.9947 - val_loss: 0.0173 - val_accuracy: 0.9946\n",
            "Epoch 3/5\n",
            "18115/18115 [==============================] - 9s 497us/sample - loss: 0.0104 - accuracy: 0.9966 - val_loss: 0.0154 - val_accuracy: 0.9951\n",
            "Epoch 4/5\n",
            "18115/18115 [==============================] - 9s 503us/sample - loss: 0.0069 - accuracy: 0.9978 - val_loss: 0.0148 - val_accuracy: 0.9954\n",
            "Epoch 5/5\n",
            "18115/18115 [==============================] - 9s 505us/sample - loss: 0.0048 - accuracy: 0.9985 - val_loss: 0.0151 - val_accuracy: 0.9955\n"
          ],
          "name": "stdout"
        },
        {
          "output_type": "execute_result",
          "data": {
            "text/plain": [
              "<tensorflow.python.keras.callbacks.History at 0x7fab0a3c1a90>"
            ]
          },
          "metadata": {
            "tags": []
          },
          "execution_count": 23
        }
      ]
    },
    {
      "metadata": {
        "id": "yqyusPvdQ0lr",
        "colab_type": "code",
        "colab": {}
      },
      "cell_type": "code",
      "source": [
        "log_rec = pd.read_csv('training.log')\n",
        "log_rec['accuracy'] = round(log_rec.accuracy * 100, 2)\n",
        "log_rec['loss'] = round(log_rec.loss, 3)\n",
        "log_rec['val_accuracy'] = round(log_rec.val_accuracy * 100, 2)\n",
        "log_rec['val_loss'] = round(log_rec.val_loss, 3)"
      ],
      "execution_count": 0,
      "outputs": []
    },
    {
      "metadata": {
        "id": "QVe9A63Ob1OF",
        "colab_type": "code",
        "colab": {
          "base_uri": "https://localhost:8080/",
          "height": 404
        },
        "outputId": "2f9deb88-5493-4f64-e772-993e5b577bc1"
      },
      "cell_type": "code",
      "source": [
        "plt.figure(figsize=(19,6))\n",
        "plt.subplot(1,2,1)\n",
        "plt.plot(log_rec['epoch'], log_rec['loss'], 'g', label='Training Loss', marker='h')\n",
        "plt.plot(log_rec['epoch'], log_rec['val_loss'], 'bo', label='Validation Loss')\n",
        "plt.xlabel('Number of Epochs')\n",
        "plt.ylabel('Cost')\n",
        "plt.xticks(log_rec['epoch'])\n",
        "plt.title('Cost Function During Optimization')\n",
        "plt.legend()\n",
        "plt.subplot(1,2,2)\n",
        "plt.plot(log_rec['epoch'], log_rec['accuracy'], 'r', label='Training Accuracy', marker='h')\n",
        "plt.plot(log_rec['epoch'], log_rec['val_accuracy'], 'bo', label='Validation Accuracy')\n",
        "plt.xlabel('Number of Epochs')\n",
        "plt.ylabel('Accuracy')\n",
        "plt.xticks(log_rec['epoch'])\n",
        "#plt.yticks(log_rec['accuracy'])\n",
        "plt.title('The Process of Model Accuracy During Optimization')\n",
        "plt.legend()\n",
        "plt.show()"
      ],
      "execution_count": 25,
      "outputs": [
        {
          "output_type": "display_data",
          "data": {
            "image/png": "[encoded data removed]",
            "text/plain": [
              "<Figure size 1368x432 with 2 Axes>"
            ]
          },
          "metadata": {
            "tags": []
          }
        }
      ]
    },
    {
      "metadata": {
        "id": "f0FYaC785IlE",
        "colab_type": "code",
        "colab": {
          "base_uri": "https://localhost:8080/",
          "height": 85
        },
        "outputId": "822915fb-350b-4d50-8335-e1d00b30371e"
      },
      "cell_type": "code",
      "source": [
        "print(\"\\nThe accuracy of Machine Learning model is ------> %.1f%%\" % (100 * accuracyMLmodel))\n",
        "print(\"\\nThe accuracy of Deep Learning model is ---------> %.1f%%\" % (log_rec['val_accuracy'][n_epoch-1]))"
      ],
      "execution_count": 38,
      "outputs": [
        {
          "output_type": "stream",
          "text": [
            "\n",
            "The accuracy of Machine Learning model is ------> 19.5%\n",
            "\n",
            "The accuracy of Deep Learning model is ---------> 99.5%\n"
          ],
          "name": "stdout"
        }
      ]
    }
  ]
}